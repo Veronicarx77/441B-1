{
  "nbformat": 4,
  "nbformat_minor": 0,
  "metadata": {
    "colab": {
      "provenance": [],
      "include_colab_link": true
    },
    "kernelspec": {
      "name": "python3",
      "display_name": "Python 3"
    },
    "language_info": {
      "name": "python"
    }
  },
  "cells": [
    {
      "cell_type": "markdown",
      "metadata": {
        "id": "view-in-github",
        "colab_type": "text"
      },
      "source": [
        "<a href=\"https://colab.research.google.com/github/Veronicarx77/441B-1/blob/main/Week_6_INCLASS.ipynb\" target=\"_parent\"><img src=\"https://colab.research.google.com/assets/colab-badge.svg\" alt=\"Open In Colab\"/></a>"
      ]
    },
    {
      "cell_type": "markdown",
      "source": [
        "# 1.) Preprocess your data into scaled input variables and an output variable\n"
      ],
      "metadata": {
        "id": "7ywSRtNI4s5h"
      }
    },
    {
      "cell_type": "code",
      "execution_count": 1,
      "metadata": {
        "id": "nsG1QV154GYZ"
      },
      "outputs": [],
      "source": [
        "import pandas as pd\n",
        "from google.colab import drive\n",
        "import matplotlib.pyplot as plt\n",
        "import numpy as np\n",
        "import datetime"
      ]
    },
    {
      "cell_type": "code",
      "source": [
        "drive.mount('/content/gdrive/', force_remount = True)"
      ],
      "metadata": {
        "colab": {
          "base_uri": "https://localhost:8080/"
        },
        "id": "Iku0T8Ou4Lcu",
        "outputId": "129b5cd7-3686-4dbd-95ba-7fc6613cbe48"
      },
      "execution_count": 2,
      "outputs": [
        {
          "output_type": "stream",
          "name": "stdout",
          "text": [
            "Mounted at /content/gdrive/\n"
          ]
        }
      ]
    },
    {
      "cell_type": "code",
      "source": [
        "df = pd.read_csv(\"/content/gdrive/MyDrive/CLV_Sample.csv\",index_col=0)\n"
      ],
      "metadata": {
        "id": "Q7XmCWs_rULl"
      },
      "execution_count": 36,
      "outputs": []
    },
    {
      "cell_type": "code",
      "source": [
        "df = pd.get_dummies(df)"
      ],
      "metadata": {
        "id": "tmMOtR0RMEn1"
      },
      "execution_count": 45,
      "outputs": []
    },
    {
      "cell_type": "code",
      "source": [
        "df"
      ],
      "metadata": {
        "colab": {
          "base_uri": "https://localhost:8080/",
          "height": 571
        },
        "id": "onmgFgkdTnkv",
        "outputId": "17b3df21-e851-4eff-b6e9-b16081983f72"
      },
      "execution_count": 72,
      "outputs": [
        {
          "output_type": "execute_result",
          "data": {
            "text/plain": [
              "          Customer Lifetime Value  Income  Monthly Premium Auto  \\\n",
              "Customer                                                          \n",
              "BU79786               2763.519279   56274                    69   \n",
              "QZ44356               6979.535903       0                    94   \n",
              "AI49188              12887.431650   48767                   108   \n",
              "WW63253               7645.861827       0                   106   \n",
              "HB64268               2813.692575   43836                    73   \n",
              "...                           ...     ...                   ...   \n",
              "LA72316              23405.987980   71941                    73   \n",
              "PK87824               3096.511217   21604                    79   \n",
              "TD14365               8163.890428       0                    85   \n",
              "UP19263               7524.442436   21941                    96   \n",
              "Y167826               2611.836866       0                    77   \n",
              "\n",
              "          Months Since Last Claim  Months Since Policy Inception  \\\n",
              "Customer                                                           \n",
              "BU79786                        32                              5   \n",
              "QZ44356                        13                             42   \n",
              "AI49188                        18                             38   \n",
              "WW63253                        18                             65   \n",
              "HB64268                        12                             44   \n",
              "...                           ...                            ...   \n",
              "LA72316                        18                             89   \n",
              "PK87824                        14                             28   \n",
              "TD14365                         9                             37   \n",
              "UP19263                        34                              3   \n",
              "Y167826                         3                             90   \n",
              "\n",
              "          Number of Open Complaints  Number of Policies  Total Claim Amount  \\\n",
              "Customer                                                                      \n",
              "BU79786                           0                   1          384.811147   \n",
              "QZ44356                           0                   8         1131.464935   \n",
              "AI49188                           0                   2          566.472247   \n",
              "WW63253                           0                   7          529.881344   \n",
              "HB64268                           0                   1          138.130879   \n",
              "...                             ...                 ...                 ...   \n",
              "LA72316                           0                   2          198.234764   \n",
              "PK87824                           0                   1          379.200000   \n",
              "TD14365                           3                   2          790.784983   \n",
              "UP19263                           0                   3          691.200000   \n",
              "Y167826                           0                   1          369.600000   \n",
              "\n",
              "          State_Arizona  State_California  ...  Sales Channel_Web  \\\n",
              "Customer                                   ...                      \n",
              "BU79786               0                 0  ...                  0   \n",
              "QZ44356               1                 0  ...                  0   \n",
              "AI49188               0                 0  ...                  0   \n",
              "WW63253               0                 1  ...                  0   \n",
              "HB64268               0                 0  ...                  0   \n",
              "...                 ...               ...  ...                ...   \n",
              "LA72316               0                 1  ...                  1   \n",
              "PK87824               0                 1  ...                  0   \n",
              "TD14365               0                 1  ...                  0   \n",
              "UP19263               0                 1  ...                  0   \n",
              "Y167826               0                 1  ...                  0   \n",
              "\n",
              "          Vehicle Class_Four-Door Car  Vehicle Class_Luxury Car  \\\n",
              "Customer                                                          \n",
              "BU79786                             0                         0   \n",
              "QZ44356                             1                         0   \n",
              "AI49188                             0                         0   \n",
              "WW63253                             0                         0   \n",
              "HB64268                             1                         0   \n",
              "...                               ...                       ...   \n",
              "LA72316                             1                         0   \n",
              "PK87824                             1                         0   \n",
              "TD14365                             1                         0   \n",
              "UP19263                             1                         0   \n",
              "Y167826                             0                         0   \n",
              "\n",
              "          Vehicle Class_Luxury SUV  Vehicle Class_SUV  \\\n",
              "Customer                                                \n",
              "BU79786                          0                  0   \n",
              "QZ44356                          0                  0   \n",
              "AI49188                          0                  0   \n",
              "WW63253                          0                  1   \n",
              "HB64268                          0                  0   \n",
              "...                            ...                ...   \n",
              "LA72316                          0                  0   \n",
              "PK87824                          0                  0   \n",
              "TD14365                          0                  0   \n",
              "UP19263                          0                  0   \n",
              "Y167826                          0                  0   \n",
              "\n",
              "          Vehicle Class_Sports Car  Vehicle Class_Two-Door Car  \\\n",
              "Customer                                                         \n",
              "BU79786                          0                           1   \n",
              "QZ44356                          0                           0   \n",
              "AI49188                          0                           1   \n",
              "WW63253                          0                           0   \n",
              "HB64268                          0                           0   \n",
              "...                            ...                         ...   \n",
              "LA72316                          0                           0   \n",
              "PK87824                          0                           0   \n",
              "TD14365                          0                           0   \n",
              "UP19263                          0                           0   \n",
              "Y167826                          0                           1   \n",
              "\n",
              "          Vehicle Size_Large  Vehicle Size_Medsize  Vehicle Size_Small  \n",
              "Customer                                                                \n",
              "BU79786                    0                     1                   0  \n",
              "QZ44356                    0                     1                   0  \n",
              "AI49188                    0                     1                   0  \n",
              "WW63253                    0                     1                   0  \n",
              "HB64268                    0                     1                   0  \n",
              "...                      ...                   ...                 ...  \n",
              "LA72316                    0                     1                   0  \n",
              "PK87824                    0                     1                   0  \n",
              "TD14365                    0                     1                   0  \n",
              "UP19263                    1                     0                   0  \n",
              "Y167826                    0                     1                   0  \n",
              "\n",
              "[9134 rows x 124 columns]"
            ],
            "text/html": [
              "\n",
              "  <div id=\"df-77d034e0-66b8-40c2-b3f9-6520b157c0c5\">\n",
              "    <div class=\"colab-df-container\">\n",
              "      <div>\n",
              "<style scoped>\n",
              "    .dataframe tbody tr th:only-of-type {\n",
              "        vertical-align: middle;\n",
              "    }\n",
              "\n",
              "    .dataframe tbody tr th {\n",
              "        vertical-align: top;\n",
              "    }\n",
              "\n",
              "    .dataframe thead th {\n",
              "        text-align: right;\n",
              "    }\n",
              "</style>\n",
              "<table border=\"1\" class=\"dataframe\">\n",
              "  <thead>\n",
              "    <tr style=\"text-align: right;\">\n",
              "      <th></th>\n",
              "      <th>Customer Lifetime Value</th>\n",
              "      <th>Income</th>\n",
              "      <th>Monthly Premium Auto</th>\n",
              "      <th>Months Since Last Claim</th>\n",
              "      <th>Months Since Policy Inception</th>\n",
              "      <th>Number of Open Complaints</th>\n",
              "      <th>Number of Policies</th>\n",
              "      <th>Total Claim Amount</th>\n",
              "      <th>State_Arizona</th>\n",
              "      <th>State_California</th>\n",
              "      <th>...</th>\n",
              "      <th>Sales Channel_Web</th>\n",
              "      <th>Vehicle Class_Four-Door Car</th>\n",
              "      <th>Vehicle Class_Luxury Car</th>\n",
              "      <th>Vehicle Class_Luxury SUV</th>\n",
              "      <th>Vehicle Class_SUV</th>\n",
              "      <th>Vehicle Class_Sports Car</th>\n",
              "      <th>Vehicle Class_Two-Door Car</th>\n",
              "      <th>Vehicle Size_Large</th>\n",
              "      <th>Vehicle Size_Medsize</th>\n",
              "      <th>Vehicle Size_Small</th>\n",
              "    </tr>\n",
              "    <tr>\n",
              "      <th>Customer</th>\n",
              "      <th></th>\n",
              "      <th></th>\n",
              "      <th></th>\n",
              "      <th></th>\n",
              "      <th></th>\n",
              "      <th></th>\n",
              "      <th></th>\n",
              "      <th></th>\n",
              "      <th></th>\n",
              "      <th></th>\n",
              "      <th></th>\n",
              "      <th></th>\n",
              "      <th></th>\n",
              "      <th></th>\n",
              "      <th></th>\n",
              "      <th></th>\n",
              "      <th></th>\n",
              "      <th></th>\n",
              "      <th></th>\n",
              "      <th></th>\n",
              "      <th></th>\n",
              "    </tr>\n",
              "  </thead>\n",
              "  <tbody>\n",
              "    <tr>\n",
              "      <th>BU79786</th>\n",
              "      <td>2763.519279</td>\n",
              "      <td>56274</td>\n",
              "      <td>69</td>\n",
              "      <td>32</td>\n",
              "      <td>5</td>\n",
              "      <td>0</td>\n",
              "      <td>1</td>\n",
              "      <td>384.811147</td>\n",
              "      <td>0</td>\n",
              "      <td>0</td>\n",
              "      <td>...</td>\n",
              "      <td>0</td>\n",
              "      <td>0</td>\n",
              "      <td>0</td>\n",
              "      <td>0</td>\n",
              "      <td>0</td>\n",
              "      <td>0</td>\n",
              "      <td>1</td>\n",
              "      <td>0</td>\n",
              "      <td>1</td>\n",
              "      <td>0</td>\n",
              "    </tr>\n",
              "    <tr>\n",
              "      <th>QZ44356</th>\n",
              "      <td>6979.535903</td>\n",
              "      <td>0</td>\n",
              "      <td>94</td>\n",
              "      <td>13</td>\n",
              "      <td>42</td>\n",
              "      <td>0</td>\n",
              "      <td>8</td>\n",
              "      <td>1131.464935</td>\n",
              "      <td>1</td>\n",
              "      <td>0</td>\n",
              "      <td>...</td>\n",
              "      <td>0</td>\n",
              "      <td>1</td>\n",
              "      <td>0</td>\n",
              "      <td>0</td>\n",
              "      <td>0</td>\n",
              "      <td>0</td>\n",
              "      <td>0</td>\n",
              "      <td>0</td>\n",
              "      <td>1</td>\n",
              "      <td>0</td>\n",
              "    </tr>\n",
              "    <tr>\n",
              "      <th>AI49188</th>\n",
              "      <td>12887.431650</td>\n",
              "      <td>48767</td>\n",
              "      <td>108</td>\n",
              "      <td>18</td>\n",
              "      <td>38</td>\n",
              "      <td>0</td>\n",
              "      <td>2</td>\n",
              "      <td>566.472247</td>\n",
              "      <td>0</td>\n",
              "      <td>0</td>\n",
              "      <td>...</td>\n",
              "      <td>0</td>\n",
              "      <td>0</td>\n",
              "      <td>0</td>\n",
              "      <td>0</td>\n",
              "      <td>0</td>\n",
              "      <td>0</td>\n",
              "      <td>1</td>\n",
              "      <td>0</td>\n",
              "      <td>1</td>\n",
              "      <td>0</td>\n",
              "    </tr>\n",
              "    <tr>\n",
              "      <th>WW63253</th>\n",
              "      <td>7645.861827</td>\n",
              "      <td>0</td>\n",
              "      <td>106</td>\n",
              "      <td>18</td>\n",
              "      <td>65</td>\n",
              "      <td>0</td>\n",
              "      <td>7</td>\n",
              "      <td>529.881344</td>\n",
              "      <td>0</td>\n",
              "      <td>1</td>\n",
              "      <td>...</td>\n",
              "      <td>0</td>\n",
              "      <td>0</td>\n",
              "      <td>0</td>\n",
              "      <td>0</td>\n",
              "      <td>1</td>\n",
              "      <td>0</td>\n",
              "      <td>0</td>\n",
              "      <td>0</td>\n",
              "      <td>1</td>\n",
              "      <td>0</td>\n",
              "    </tr>\n",
              "    <tr>\n",
              "      <th>HB64268</th>\n",
              "      <td>2813.692575</td>\n",
              "      <td>43836</td>\n",
              "      <td>73</td>\n",
              "      <td>12</td>\n",
              "      <td>44</td>\n",
              "      <td>0</td>\n",
              "      <td>1</td>\n",
              "      <td>138.130879</td>\n",
              "      <td>0</td>\n",
              "      <td>0</td>\n",
              "      <td>...</td>\n",
              "      <td>0</td>\n",
              "      <td>1</td>\n",
              "      <td>0</td>\n",
              "      <td>0</td>\n",
              "      <td>0</td>\n",
              "      <td>0</td>\n",
              "      <td>0</td>\n",
              "      <td>0</td>\n",
              "      <td>1</td>\n",
              "      <td>0</td>\n",
              "    </tr>\n",
              "    <tr>\n",
              "      <th>...</th>\n",
              "      <td>...</td>\n",
              "      <td>...</td>\n",
              "      <td>...</td>\n",
              "      <td>...</td>\n",
              "      <td>...</td>\n",
              "      <td>...</td>\n",
              "      <td>...</td>\n",
              "      <td>...</td>\n",
              "      <td>...</td>\n",
              "      <td>...</td>\n",
              "      <td>...</td>\n",
              "      <td>...</td>\n",
              "      <td>...</td>\n",
              "      <td>...</td>\n",
              "      <td>...</td>\n",
              "      <td>...</td>\n",
              "      <td>...</td>\n",
              "      <td>...</td>\n",
              "      <td>...</td>\n",
              "      <td>...</td>\n",
              "      <td>...</td>\n",
              "    </tr>\n",
              "    <tr>\n",
              "      <th>LA72316</th>\n",
              "      <td>23405.987980</td>\n",
              "      <td>71941</td>\n",
              "      <td>73</td>\n",
              "      <td>18</td>\n",
              "      <td>89</td>\n",
              "      <td>0</td>\n",
              "      <td>2</td>\n",
              "      <td>198.234764</td>\n",
              "      <td>0</td>\n",
              "      <td>1</td>\n",
              "      <td>...</td>\n",
              "      <td>1</td>\n",
              "      <td>1</td>\n",
              "      <td>0</td>\n",
              "      <td>0</td>\n",
              "      <td>0</td>\n",
              "      <td>0</td>\n",
              "      <td>0</td>\n",
              "      <td>0</td>\n",
              "      <td>1</td>\n",
              "      <td>0</td>\n",
              "    </tr>\n",
              "    <tr>\n",
              "      <th>PK87824</th>\n",
              "      <td>3096.511217</td>\n",
              "      <td>21604</td>\n",
              "      <td>79</td>\n",
              "      <td>14</td>\n",
              "      <td>28</td>\n",
              "      <td>0</td>\n",
              "      <td>1</td>\n",
              "      <td>379.200000</td>\n",
              "      <td>0</td>\n",
              "      <td>1</td>\n",
              "      <td>...</td>\n",
              "      <td>0</td>\n",
              "      <td>1</td>\n",
              "      <td>0</td>\n",
              "      <td>0</td>\n",
              "      <td>0</td>\n",
              "      <td>0</td>\n",
              "      <td>0</td>\n",
              "      <td>0</td>\n",
              "      <td>1</td>\n",
              "      <td>0</td>\n",
              "    </tr>\n",
              "    <tr>\n",
              "      <th>TD14365</th>\n",
              "      <td>8163.890428</td>\n",
              "      <td>0</td>\n",
              "      <td>85</td>\n",
              "      <td>9</td>\n",
              "      <td>37</td>\n",
              "      <td>3</td>\n",
              "      <td>2</td>\n",
              "      <td>790.784983</td>\n",
              "      <td>0</td>\n",
              "      <td>1</td>\n",
              "      <td>...</td>\n",
              "      <td>0</td>\n",
              "      <td>1</td>\n",
              "      <td>0</td>\n",
              "      <td>0</td>\n",
              "      <td>0</td>\n",
              "      <td>0</td>\n",
              "      <td>0</td>\n",
              "      <td>0</td>\n",
              "      <td>1</td>\n",
              "      <td>0</td>\n",
              "    </tr>\n",
              "    <tr>\n",
              "      <th>UP19263</th>\n",
              "      <td>7524.442436</td>\n",
              "      <td>21941</td>\n",
              "      <td>96</td>\n",
              "      <td>34</td>\n",
              "      <td>3</td>\n",
              "      <td>0</td>\n",
              "      <td>3</td>\n",
              "      <td>691.200000</td>\n",
              "      <td>0</td>\n",
              "      <td>1</td>\n",
              "      <td>...</td>\n",
              "      <td>0</td>\n",
              "      <td>1</td>\n",
              "      <td>0</td>\n",
              "      <td>0</td>\n",
              "      <td>0</td>\n",
              "      <td>0</td>\n",
              "      <td>0</td>\n",
              "      <td>1</td>\n",
              "      <td>0</td>\n",
              "      <td>0</td>\n",
              "    </tr>\n",
              "    <tr>\n",
              "      <th>Y167826</th>\n",
              "      <td>2611.836866</td>\n",
              "      <td>0</td>\n",
              "      <td>77</td>\n",
              "      <td>3</td>\n",
              "      <td>90</td>\n",
              "      <td>0</td>\n",
              "      <td>1</td>\n",
              "      <td>369.600000</td>\n",
              "      <td>0</td>\n",
              "      <td>1</td>\n",
              "      <td>...</td>\n",
              "      <td>0</td>\n",
              "      <td>0</td>\n",
              "      <td>0</td>\n",
              "      <td>0</td>\n",
              "      <td>0</td>\n",
              "      <td>0</td>\n",
              "      <td>1</td>\n",
              "      <td>0</td>\n",
              "      <td>1</td>\n",
              "      <td>0</td>\n",
              "    </tr>\n",
              "  </tbody>\n",
              "</table>\n",
              "<p>9134 rows × 124 columns</p>\n",
              "</div>\n",
              "      <button class=\"colab-df-convert\" onclick=\"convertToInteractive('df-77d034e0-66b8-40c2-b3f9-6520b157c0c5')\"\n",
              "              title=\"Convert this dataframe to an interactive table.\"\n",
              "              style=\"display:none;\">\n",
              "        \n",
              "  <svg xmlns=\"http://www.w3.org/2000/svg\" height=\"24px\"viewBox=\"0 0 24 24\"\n",
              "       width=\"24px\">\n",
              "    <path d=\"M0 0h24v24H0V0z\" fill=\"none\"/>\n",
              "    <path d=\"M18.56 5.44l.94 2.06.94-2.06 2.06-.94-2.06-.94-.94-2.06-.94 2.06-2.06.94zm-11 1L8.5 8.5l.94-2.06 2.06-.94-2.06-.94L8.5 2.5l-.94 2.06-2.06.94zm10 10l.94 2.06.94-2.06 2.06-.94-2.06-.94-.94-2.06-.94 2.06-2.06.94z\"/><path d=\"M17.41 7.96l-1.37-1.37c-.4-.4-.92-.59-1.43-.59-.52 0-1.04.2-1.43.59L10.3 9.45l-7.72 7.72c-.78.78-.78 2.05 0 2.83L4 21.41c.39.39.9.59 1.41.59.51 0 1.02-.2 1.41-.59l7.78-7.78 2.81-2.81c.8-.78.8-2.07 0-2.86zM5.41 20L4 18.59l7.72-7.72 1.47 1.35L5.41 20z\"/>\n",
              "  </svg>\n",
              "      </button>\n",
              "      \n",
              "  <style>\n",
              "    .colab-df-container {\n",
              "      display:flex;\n",
              "      flex-wrap:wrap;\n",
              "      gap: 12px;\n",
              "    }\n",
              "\n",
              "    .colab-df-convert {\n",
              "      background-color: #E8F0FE;\n",
              "      border: none;\n",
              "      border-radius: 50%;\n",
              "      cursor: pointer;\n",
              "      display: none;\n",
              "      fill: #1967D2;\n",
              "      height: 32px;\n",
              "      padding: 0 0 0 0;\n",
              "      width: 32px;\n",
              "    }\n",
              "\n",
              "    .colab-df-convert:hover {\n",
              "      background-color: #E2EBFA;\n",
              "      box-shadow: 0px 1px 2px rgba(60, 64, 67, 0.3), 0px 1px 3px 1px rgba(60, 64, 67, 0.15);\n",
              "      fill: #174EA6;\n",
              "    }\n",
              "\n",
              "    [theme=dark] .colab-df-convert {\n",
              "      background-color: #3B4455;\n",
              "      fill: #D2E3FC;\n",
              "    }\n",
              "\n",
              "    [theme=dark] .colab-df-convert:hover {\n",
              "      background-color: #434B5C;\n",
              "      box-shadow: 0px 1px 3px 1px rgba(0, 0, 0, 0.15);\n",
              "      filter: drop-shadow(0px 1px 2px rgba(0, 0, 0, 0.3));\n",
              "      fill: #FFFFFF;\n",
              "    }\n",
              "  </style>\n",
              "\n",
              "      <script>\n",
              "        const buttonEl =\n",
              "          document.querySelector('#df-77d034e0-66b8-40c2-b3f9-6520b157c0c5 button.colab-df-convert');\n",
              "        buttonEl.style.display =\n",
              "          google.colab.kernel.accessAllowed ? 'block' : 'none';\n",
              "\n",
              "        async function convertToInteractive(key) {\n",
              "          const element = document.querySelector('#df-77d034e0-66b8-40c2-b3f9-6520b157c0c5');\n",
              "          const dataTable =\n",
              "            await google.colab.kernel.invokeFunction('convertToInteractive',\n",
              "                                                     [key], {});\n",
              "          if (!dataTable) return;\n",
              "\n",
              "          const docLinkHtml = 'Like what you see? Visit the ' +\n",
              "            '<a target=\"_blank\" href=https://colab.research.google.com/notebooks/data_table.ipynb>data table notebook</a>'\n",
              "            + ' to learn more about interactive tables.';\n",
              "          element.innerHTML = '';\n",
              "          dataTable['output_type'] = 'display_data';\n",
              "          await google.colab.output.renderOutput(dataTable, element);\n",
              "          const docLink = document.createElement('div');\n",
              "          docLink.innerHTML = docLinkHtml;\n",
              "          element.appendChild(docLink);\n",
              "        }\n",
              "      </script>\n",
              "    </div>\n",
              "  </div>\n",
              "  "
            ]
          },
          "metadata": {},
          "execution_count": 72
        }
      ]
    },
    {
      "cell_type": "code",
      "source": [
        "X = df.drop([\"Customer Lifetime Value\"], axis =1 )\n",
        "y = df['Customer Lifetime Value']"
      ],
      "metadata": {
        "id": "9hfSckvYW4NN"
      },
      "execution_count": 46,
      "outputs": []
    },
    {
      "cell_type": "code",
      "source": [
        "from sklearn.model_selection import train_test_split\n",
        "X_train, X_test, y_train, y_test = train_test_split(X, y, test_size = .3)"
      ],
      "metadata": {
        "id": "5X3GlNZqyAfL"
      },
      "execution_count": 47,
      "outputs": []
    },
    {
      "cell_type": "code",
      "source": [
        "from sklearn.preprocessing import StandardScaler"
      ],
      "metadata": {
        "id": "BaX5ur0GyAh6"
      },
      "execution_count": 48,
      "outputs": []
    },
    {
      "cell_type": "code",
      "source": [
        "scaler = StandardScaler()\n",
        "X_train = scaler.fit_transform(X_train)\n",
        "X_test = scaler.transform(X_test)"
      ],
      "metadata": {
        "id": "jWF7eEu9x2jH"
      },
      "execution_count": 49,
      "outputs": []
    },
    {
      "cell_type": "markdown",
      "source": [
        "# 2.) Run a GridSearch CV on at least 10 possible combinations of hyper parameters "
      ],
      "metadata": {
        "id": "OacsID8kTRvk"
      }
    },
    {
      "cell_type": "code",
      "source": [
        "from sklearn.neural_network import MLPRegressor\n",
        "from sklearn.model_selection import GridSearchCV"
      ],
      "metadata": {
        "id": "HGRyvMUHicYL"
      },
      "execution_count": 50,
      "outputs": []
    },
    {
      "cell_type": "code",
      "source": [
        "clf = MLPRegressor()\n",
        "\n",
        "params = {\n",
        "    \"hidden_layer_sizes\": [(10,), (5,20,),(10,50,),(10,100,10,),(50,100,25,5,)], \n",
        "    \"activation\" : ['relu','logistic','tanh']\n",
        "}"
      ],
      "metadata": {
        "id": "ovrlSMhri3Eb"
      },
      "execution_count": 111,
      "outputs": []
    },
    {
      "cell_type": "code",
      "source": [
        "grid = GridSearchCV(clf, params, cv = 5)\n",
        "grid.fit(X_train, y_train)"
      ],
      "metadata": {
        "id": "N15NvH4qi3HI",
        "colab": {
          "base_uri": "https://localhost:8080/"
        },
        "outputId": "7fd61cdc-81d7-4526-ea08-53b8502fc7c3"
      },
      "execution_count": 112,
      "outputs": [
        {
          "output_type": "stream",
          "name": "stderr",
          "text": [
            "/usr/local/lib/python3.8/dist-packages/sklearn/neural_network/_multilayer_perceptron.py:692: ConvergenceWarning: Stochastic Optimizer: Maximum iterations (200) reached and the optimization hasn't converged yet.\n",
            "  warnings.warn(\n",
            "/usr/local/lib/python3.8/dist-packages/sklearn/neural_network/_multilayer_perceptron.py:692: ConvergenceWarning: Stochastic Optimizer: Maximum iterations (200) reached and the optimization hasn't converged yet.\n",
            "  warnings.warn(\n",
            "/usr/local/lib/python3.8/dist-packages/sklearn/neural_network/_multilayer_perceptron.py:692: ConvergenceWarning: Stochastic Optimizer: Maximum iterations (200) reached and the optimization hasn't converged yet.\n",
            "  warnings.warn(\n",
            "/usr/local/lib/python3.8/dist-packages/sklearn/neural_network/_multilayer_perceptron.py:692: ConvergenceWarning: Stochastic Optimizer: Maximum iterations (200) reached and the optimization hasn't converged yet.\n",
            "  warnings.warn(\n",
            "/usr/local/lib/python3.8/dist-packages/sklearn/neural_network/_multilayer_perceptron.py:692: ConvergenceWarning: Stochastic Optimizer: Maximum iterations (200) reached and the optimization hasn't converged yet.\n",
            "  warnings.warn(\n",
            "/usr/local/lib/python3.8/dist-packages/sklearn/neural_network/_multilayer_perceptron.py:692: ConvergenceWarning: Stochastic Optimizer: Maximum iterations (200) reached and the optimization hasn't converged yet.\n",
            "  warnings.warn(\n",
            "/usr/local/lib/python3.8/dist-packages/sklearn/neural_network/_multilayer_perceptron.py:692: ConvergenceWarning: Stochastic Optimizer: Maximum iterations (200) reached and the optimization hasn't converged yet.\n",
            "  warnings.warn(\n",
            "/usr/local/lib/python3.8/dist-packages/sklearn/neural_network/_multilayer_perceptron.py:692: ConvergenceWarning: Stochastic Optimizer: Maximum iterations (200) reached and the optimization hasn't converged yet.\n",
            "  warnings.warn(\n",
            "/usr/local/lib/python3.8/dist-packages/sklearn/neural_network/_multilayer_perceptron.py:692: ConvergenceWarning: Stochastic Optimizer: Maximum iterations (200) reached and the optimization hasn't converged yet.\n",
            "  warnings.warn(\n",
            "/usr/local/lib/python3.8/dist-packages/sklearn/neural_network/_multilayer_perceptron.py:692: ConvergenceWarning: Stochastic Optimizer: Maximum iterations (200) reached and the optimization hasn't converged yet.\n",
            "  warnings.warn(\n",
            "/usr/local/lib/python3.8/dist-packages/sklearn/neural_network/_multilayer_perceptron.py:692: ConvergenceWarning: Stochastic Optimizer: Maximum iterations (200) reached and the optimization hasn't converged yet.\n",
            "  warnings.warn(\n",
            "/usr/local/lib/python3.8/dist-packages/sklearn/neural_network/_multilayer_perceptron.py:692: ConvergenceWarning: Stochastic Optimizer: Maximum iterations (200) reached and the optimization hasn't converged yet.\n",
            "  warnings.warn(\n",
            "/usr/local/lib/python3.8/dist-packages/sklearn/neural_network/_multilayer_perceptron.py:692: ConvergenceWarning: Stochastic Optimizer: Maximum iterations (200) reached and the optimization hasn't converged yet.\n",
            "  warnings.warn(\n",
            "/usr/local/lib/python3.8/dist-packages/sklearn/neural_network/_multilayer_perceptron.py:692: ConvergenceWarning: Stochastic Optimizer: Maximum iterations (200) reached and the optimization hasn't converged yet.\n",
            "  warnings.warn(\n",
            "/usr/local/lib/python3.8/dist-packages/sklearn/neural_network/_multilayer_perceptron.py:692: ConvergenceWarning: Stochastic Optimizer: Maximum iterations (200) reached and the optimization hasn't converged yet.\n",
            "  warnings.warn(\n",
            "/usr/local/lib/python3.8/dist-packages/sklearn/neural_network/_multilayer_perceptron.py:692: ConvergenceWarning: Stochastic Optimizer: Maximum iterations (200) reached and the optimization hasn't converged yet.\n",
            "  warnings.warn(\n",
            "/usr/local/lib/python3.8/dist-packages/sklearn/neural_network/_multilayer_perceptron.py:692: ConvergenceWarning: Stochastic Optimizer: Maximum iterations (200) reached and the optimization hasn't converged yet.\n",
            "  warnings.warn(\n",
            "/usr/local/lib/python3.8/dist-packages/sklearn/neural_network/_multilayer_perceptron.py:692: ConvergenceWarning: Stochastic Optimizer: Maximum iterations (200) reached and the optimization hasn't converged yet.\n",
            "  warnings.warn(\n",
            "/usr/local/lib/python3.8/dist-packages/sklearn/neural_network/_multilayer_perceptron.py:692: ConvergenceWarning: Stochastic Optimizer: Maximum iterations (200) reached and the optimization hasn't converged yet.\n",
            "  warnings.warn(\n",
            "/usr/local/lib/python3.8/dist-packages/sklearn/neural_network/_multilayer_perceptron.py:692: ConvergenceWarning: Stochastic Optimizer: Maximum iterations (200) reached and the optimization hasn't converged yet.\n",
            "  warnings.warn(\n",
            "/usr/local/lib/python3.8/dist-packages/sklearn/neural_network/_multilayer_perceptron.py:692: ConvergenceWarning: Stochastic Optimizer: Maximum iterations (200) reached and the optimization hasn't converged yet.\n",
            "  warnings.warn(\n",
            "/usr/local/lib/python3.8/dist-packages/sklearn/neural_network/_multilayer_perceptron.py:692: ConvergenceWarning: Stochastic Optimizer: Maximum iterations (200) reached and the optimization hasn't converged yet.\n",
            "  warnings.warn(\n",
            "/usr/local/lib/python3.8/dist-packages/sklearn/neural_network/_multilayer_perceptron.py:692: ConvergenceWarning: Stochastic Optimizer: Maximum iterations (200) reached and the optimization hasn't converged yet.\n",
            "  warnings.warn(\n",
            "/usr/local/lib/python3.8/dist-packages/sklearn/neural_network/_multilayer_perceptron.py:692: ConvergenceWarning: Stochastic Optimizer: Maximum iterations (200) reached and the optimization hasn't converged yet.\n",
            "  warnings.warn(\n",
            "/usr/local/lib/python3.8/dist-packages/sklearn/neural_network/_multilayer_perceptron.py:692: ConvergenceWarning: Stochastic Optimizer: Maximum iterations (200) reached and the optimization hasn't converged yet.\n",
            "  warnings.warn(\n",
            "/usr/local/lib/python3.8/dist-packages/sklearn/neural_network/_multilayer_perceptron.py:692: ConvergenceWarning: Stochastic Optimizer: Maximum iterations (200) reached and the optimization hasn't converged yet.\n",
            "  warnings.warn(\n",
            "/usr/local/lib/python3.8/dist-packages/sklearn/neural_network/_multilayer_perceptron.py:692: ConvergenceWarning: Stochastic Optimizer: Maximum iterations (200) reached and the optimization hasn't converged yet.\n",
            "  warnings.warn(\n",
            "/usr/local/lib/python3.8/dist-packages/sklearn/neural_network/_multilayer_perceptron.py:692: ConvergenceWarning: Stochastic Optimizer: Maximum iterations (200) reached and the optimization hasn't converged yet.\n",
            "  warnings.warn(\n",
            "/usr/local/lib/python3.8/dist-packages/sklearn/neural_network/_multilayer_perceptron.py:692: ConvergenceWarning: Stochastic Optimizer: Maximum iterations (200) reached and the optimization hasn't converged yet.\n",
            "  warnings.warn(\n",
            "/usr/local/lib/python3.8/dist-packages/sklearn/neural_network/_multilayer_perceptron.py:692: ConvergenceWarning: Stochastic Optimizer: Maximum iterations (200) reached and the optimization hasn't converged yet.\n",
            "  warnings.warn(\n",
            "/usr/local/lib/python3.8/dist-packages/sklearn/neural_network/_multilayer_perceptron.py:692: ConvergenceWarning: Stochastic Optimizer: Maximum iterations (200) reached and the optimization hasn't converged yet.\n",
            "  warnings.warn(\n",
            "/usr/local/lib/python3.8/dist-packages/sklearn/neural_network/_multilayer_perceptron.py:692: ConvergenceWarning: Stochastic Optimizer: Maximum iterations (200) reached and the optimization hasn't converged yet.\n",
            "  warnings.warn(\n",
            "/usr/local/lib/python3.8/dist-packages/sklearn/neural_network/_multilayer_perceptron.py:692: ConvergenceWarning: Stochastic Optimizer: Maximum iterations (200) reached and the optimization hasn't converged yet.\n",
            "  warnings.warn(\n",
            "/usr/local/lib/python3.8/dist-packages/sklearn/neural_network/_multilayer_perceptron.py:692: ConvergenceWarning: Stochastic Optimizer: Maximum iterations (200) reached and the optimization hasn't converged yet.\n",
            "  warnings.warn(\n",
            "/usr/local/lib/python3.8/dist-packages/sklearn/neural_network/_multilayer_perceptron.py:692: ConvergenceWarning: Stochastic Optimizer: Maximum iterations (200) reached and the optimization hasn't converged yet.\n",
            "  warnings.warn(\n",
            "/usr/local/lib/python3.8/dist-packages/sklearn/neural_network/_multilayer_perceptron.py:692: ConvergenceWarning: Stochastic Optimizer: Maximum iterations (200) reached and the optimization hasn't converged yet.\n",
            "  warnings.warn(\n",
            "/usr/local/lib/python3.8/dist-packages/sklearn/neural_network/_multilayer_perceptron.py:692: ConvergenceWarning: Stochastic Optimizer: Maximum iterations (200) reached and the optimization hasn't converged yet.\n",
            "  warnings.warn(\n",
            "/usr/local/lib/python3.8/dist-packages/sklearn/neural_network/_multilayer_perceptron.py:692: ConvergenceWarning: Stochastic Optimizer: Maximum iterations (200) reached and the optimization hasn't converged yet.\n",
            "  warnings.warn(\n",
            "/usr/local/lib/python3.8/dist-packages/sklearn/neural_network/_multilayer_perceptron.py:692: ConvergenceWarning: Stochastic Optimizer: Maximum iterations (200) reached and the optimization hasn't converged yet.\n",
            "  warnings.warn(\n",
            "/usr/local/lib/python3.8/dist-packages/sklearn/neural_network/_multilayer_perceptron.py:692: ConvergenceWarning: Stochastic Optimizer: Maximum iterations (200) reached and the optimization hasn't converged yet.\n",
            "  warnings.warn(\n",
            "/usr/local/lib/python3.8/dist-packages/sklearn/neural_network/_multilayer_perceptron.py:692: ConvergenceWarning: Stochastic Optimizer: Maximum iterations (200) reached and the optimization hasn't converged yet.\n",
            "  warnings.warn(\n",
            "/usr/local/lib/python3.8/dist-packages/sklearn/neural_network/_multilayer_perceptron.py:692: ConvergenceWarning: Stochastic Optimizer: Maximum iterations (200) reached and the optimization hasn't converged yet.\n",
            "  warnings.warn(\n",
            "/usr/local/lib/python3.8/dist-packages/sklearn/neural_network/_multilayer_perceptron.py:692: ConvergenceWarning: Stochastic Optimizer: Maximum iterations (200) reached and the optimization hasn't converged yet.\n",
            "  warnings.warn(\n",
            "/usr/local/lib/python3.8/dist-packages/sklearn/neural_network/_multilayer_perceptron.py:692: ConvergenceWarning: Stochastic Optimizer: Maximum iterations (200) reached and the optimization hasn't converged yet.\n",
            "  warnings.warn(\n",
            "/usr/local/lib/python3.8/dist-packages/sklearn/neural_network/_multilayer_perceptron.py:692: ConvergenceWarning: Stochastic Optimizer: Maximum iterations (200) reached and the optimization hasn't converged yet.\n",
            "  warnings.warn(\n",
            "/usr/local/lib/python3.8/dist-packages/sklearn/neural_network/_multilayer_perceptron.py:692: ConvergenceWarning: Stochastic Optimizer: Maximum iterations (200) reached and the optimization hasn't converged yet.\n",
            "  warnings.warn(\n",
            "/usr/local/lib/python3.8/dist-packages/sklearn/neural_network/_multilayer_perceptron.py:692: ConvergenceWarning: Stochastic Optimizer: Maximum iterations (200) reached and the optimization hasn't converged yet.\n",
            "  warnings.warn(\n",
            "/usr/local/lib/python3.8/dist-packages/sklearn/neural_network/_multilayer_perceptron.py:692: ConvergenceWarning: Stochastic Optimizer: Maximum iterations (200) reached and the optimization hasn't converged yet.\n",
            "  warnings.warn(\n",
            "/usr/local/lib/python3.8/dist-packages/sklearn/neural_network/_multilayer_perceptron.py:692: ConvergenceWarning: Stochastic Optimizer: Maximum iterations (200) reached and the optimization hasn't converged yet.\n",
            "  warnings.warn(\n",
            "/usr/local/lib/python3.8/dist-packages/sklearn/neural_network/_multilayer_perceptron.py:692: ConvergenceWarning: Stochastic Optimizer: Maximum iterations (200) reached and the optimization hasn't converged yet.\n",
            "  warnings.warn(\n",
            "/usr/local/lib/python3.8/dist-packages/sklearn/neural_network/_multilayer_perceptron.py:692: ConvergenceWarning: Stochastic Optimizer: Maximum iterations (200) reached and the optimization hasn't converged yet.\n",
            "  warnings.warn(\n",
            "/usr/local/lib/python3.8/dist-packages/sklearn/neural_network/_multilayer_perceptron.py:692: ConvergenceWarning: Stochastic Optimizer: Maximum iterations (200) reached and the optimization hasn't converged yet.\n",
            "  warnings.warn(\n",
            "/usr/local/lib/python3.8/dist-packages/sklearn/neural_network/_multilayer_perceptron.py:692: ConvergenceWarning: Stochastic Optimizer: Maximum iterations (200) reached and the optimization hasn't converged yet.\n",
            "  warnings.warn(\n",
            "/usr/local/lib/python3.8/dist-packages/sklearn/neural_network/_multilayer_perceptron.py:692: ConvergenceWarning: Stochastic Optimizer: Maximum iterations (200) reached and the optimization hasn't converged yet.\n",
            "  warnings.warn(\n",
            "/usr/local/lib/python3.8/dist-packages/sklearn/neural_network/_multilayer_perceptron.py:692: ConvergenceWarning: Stochastic Optimizer: Maximum iterations (200) reached and the optimization hasn't converged yet.\n",
            "  warnings.warn(\n",
            "/usr/local/lib/python3.8/dist-packages/sklearn/neural_network/_multilayer_perceptron.py:692: ConvergenceWarning: Stochastic Optimizer: Maximum iterations (200) reached and the optimization hasn't converged yet.\n",
            "  warnings.warn(\n",
            "/usr/local/lib/python3.8/dist-packages/sklearn/neural_network/_multilayer_perceptron.py:692: ConvergenceWarning: Stochastic Optimizer: Maximum iterations (200) reached and the optimization hasn't converged yet.\n",
            "  warnings.warn(\n",
            "/usr/local/lib/python3.8/dist-packages/sklearn/neural_network/_multilayer_perceptron.py:692: ConvergenceWarning: Stochastic Optimizer: Maximum iterations (200) reached and the optimization hasn't converged yet.\n",
            "  warnings.warn(\n",
            "/usr/local/lib/python3.8/dist-packages/sklearn/neural_network/_multilayer_perceptron.py:692: ConvergenceWarning: Stochastic Optimizer: Maximum iterations (200) reached and the optimization hasn't converged yet.\n",
            "  warnings.warn(\n",
            "/usr/local/lib/python3.8/dist-packages/sklearn/neural_network/_multilayer_perceptron.py:692: ConvergenceWarning: Stochastic Optimizer: Maximum iterations (200) reached and the optimization hasn't converged yet.\n",
            "  warnings.warn(\n",
            "/usr/local/lib/python3.8/dist-packages/sklearn/neural_network/_multilayer_perceptron.py:692: ConvergenceWarning: Stochastic Optimizer: Maximum iterations (200) reached and the optimization hasn't converged yet.\n",
            "  warnings.warn(\n",
            "/usr/local/lib/python3.8/dist-packages/sklearn/neural_network/_multilayer_perceptron.py:692: ConvergenceWarning: Stochastic Optimizer: Maximum iterations (200) reached and the optimization hasn't converged yet.\n",
            "  warnings.warn(\n",
            "/usr/local/lib/python3.8/dist-packages/sklearn/neural_network/_multilayer_perceptron.py:692: ConvergenceWarning: Stochastic Optimizer: Maximum iterations (200) reached and the optimization hasn't converged yet.\n",
            "  warnings.warn(\n",
            "/usr/local/lib/python3.8/dist-packages/sklearn/neural_network/_multilayer_perceptron.py:692: ConvergenceWarning: Stochastic Optimizer: Maximum iterations (200) reached and the optimization hasn't converged yet.\n",
            "  warnings.warn(\n",
            "/usr/local/lib/python3.8/dist-packages/sklearn/neural_network/_multilayer_perceptron.py:692: ConvergenceWarning: Stochastic Optimizer: Maximum iterations (200) reached and the optimization hasn't converged yet.\n",
            "  warnings.warn(\n",
            "/usr/local/lib/python3.8/dist-packages/sklearn/neural_network/_multilayer_perceptron.py:692: ConvergenceWarning: Stochastic Optimizer: Maximum iterations (200) reached and the optimization hasn't converged yet.\n",
            "  warnings.warn(\n",
            "/usr/local/lib/python3.8/dist-packages/sklearn/neural_network/_multilayer_perceptron.py:692: ConvergenceWarning: Stochastic Optimizer: Maximum iterations (200) reached and the optimization hasn't converged yet.\n",
            "  warnings.warn(\n",
            "/usr/local/lib/python3.8/dist-packages/sklearn/neural_network/_multilayer_perceptron.py:692: ConvergenceWarning: Stochastic Optimizer: Maximum iterations (200) reached and the optimization hasn't converged yet.\n",
            "  warnings.warn(\n",
            "/usr/local/lib/python3.8/dist-packages/sklearn/neural_network/_multilayer_perceptron.py:692: ConvergenceWarning: Stochastic Optimizer: Maximum iterations (200) reached and the optimization hasn't converged yet.\n",
            "  warnings.warn(\n",
            "/usr/local/lib/python3.8/dist-packages/sklearn/neural_network/_multilayer_perceptron.py:692: ConvergenceWarning: Stochastic Optimizer: Maximum iterations (200) reached and the optimization hasn't converged yet.\n",
            "  warnings.warn(\n",
            "/usr/local/lib/python3.8/dist-packages/sklearn/neural_network/_multilayer_perceptron.py:692: ConvergenceWarning: Stochastic Optimizer: Maximum iterations (200) reached and the optimization hasn't converged yet.\n",
            "  warnings.warn(\n",
            "/usr/local/lib/python3.8/dist-packages/sklearn/neural_network/_multilayer_perceptron.py:692: ConvergenceWarning: Stochastic Optimizer: Maximum iterations (200) reached and the optimization hasn't converged yet.\n",
            "  warnings.warn(\n",
            "/usr/local/lib/python3.8/dist-packages/sklearn/neural_network/_multilayer_perceptron.py:692: ConvergenceWarning: Stochastic Optimizer: Maximum iterations (200) reached and the optimization hasn't converged yet.\n",
            "  warnings.warn(\n",
            "/usr/local/lib/python3.8/dist-packages/sklearn/neural_network/_multilayer_perceptron.py:692: ConvergenceWarning: Stochastic Optimizer: Maximum iterations (200) reached and the optimization hasn't converged yet.\n",
            "  warnings.warn(\n",
            "/usr/local/lib/python3.8/dist-packages/sklearn/neural_network/_multilayer_perceptron.py:692: ConvergenceWarning: Stochastic Optimizer: Maximum iterations (200) reached and the optimization hasn't converged yet.\n",
            "  warnings.warn(\n",
            "/usr/local/lib/python3.8/dist-packages/sklearn/neural_network/_multilayer_perceptron.py:692: ConvergenceWarning: Stochastic Optimizer: Maximum iterations (200) reached and the optimization hasn't converged yet.\n",
            "  warnings.warn(\n"
          ]
        },
        {
          "output_type": "execute_result",
          "data": {
            "text/plain": [
              "GridSearchCV(cv=5, estimator=MLPRegressor(),\n",
              "             param_grid={'activation': ['relu', 'logistic', 'tanh'],\n",
              "                         'hidden_layer_sizes': [(10,), (5, 20), (10, 50),\n",
              "                                                (10, 100, 10),\n",
              "                                                (50, 100, 25, 5)]})"
            ]
          },
          "metadata": {},
          "execution_count": 112
        }
      ]
    },
    {
      "cell_type": "code",
      "source": [
        "print('Best parameters:',grid.best_params_)\n",
        "print('Best score',grid.best_score_)"
      ],
      "metadata": {
        "id": "2BNZptA6yzk6",
        "colab": {
          "base_uri": "https://localhost:8080/"
        },
        "outputId": "628cc059-2080-4c41-f63c-21283f9f7d7f"
      },
      "execution_count": 113,
      "outputs": [
        {
          "output_type": "stream",
          "name": "stdout",
          "text": [
            "Best parameters: {'activation': 'relu', 'hidden_layer_sizes': (10, 100, 10)}\n",
            "Best score 0.11625604712204515\n"
          ]
        }
      ]
    },
    {
      "cell_type": "markdown",
      "source": [
        "# 3.) Train a model with the optimal solution from GridSearch"
      ],
      "metadata": {
        "id": "DKNdxiyOTsOE"
      }
    },
    {
      "cell_type": "code",
      "source": [
        "MLPRegressor(**grid.best_params_)"
      ],
      "metadata": {
        "id": "tlySuJN1ULTl",
        "colab": {
          "base_uri": "https://localhost:8080/"
        },
        "outputId": "275325a8-e231-4927-8c1c-50bd5cd07f42"
      },
      "execution_count": 114,
      "outputs": [
        {
          "output_type": "execute_result",
          "data": {
            "text/plain": [
              "MLPRegressor(hidden_layer_sizes=(10, 100, 10))"
            ]
          },
          "metadata": {},
          "execution_count": 114
        }
      ]
    },
    {
      "cell_type": "code",
      "source": [
        "regressor = MLPRegressor(hidden_layer_sizes = (10,100,10,),activation = 'relu',solver = 'adam', max_iter = 1000)\n",
        "regressor.fit(X_train,y_train)"
      ],
      "metadata": {
        "id": "sfbnPTe5Tq_9",
        "colab": {
          "base_uri": "https://localhost:8080/"
        },
        "outputId": "4391f13d-0310-4f20-8f16-30052f1cfa47"
      },
      "execution_count": 115,
      "outputs": [
        {
          "output_type": "stream",
          "name": "stderr",
          "text": [
            "/usr/local/lib/python3.8/dist-packages/sklearn/neural_network/_multilayer_perceptron.py:692: ConvergenceWarning: Stochastic Optimizer: Maximum iterations (1000) reached and the optimization hasn't converged yet.\n",
            "  warnings.warn(\n"
          ]
        },
        {
          "output_type": "execute_result",
          "data": {
            "text/plain": [
              "MLPRegressor(hidden_layer_sizes=(10, 100, 10), max_iter=1000)"
            ]
          },
          "metadata": {},
          "execution_count": 115
        }
      ]
    },
    {
      "cell_type": "markdown",
      "source": [
        "# 4.) What are the in-sample and out of sample MSEs"
      ],
      "metadata": {
        "id": "qTPkbSDwT0nO"
      }
    },
    {
      "cell_type": "code",
      "source": [
        "y_pred_in = regressor.predict(X_train)\n",
        "y_pred_out = regressor.predict(X_test)"
      ],
      "metadata": {
        "id": "2KuP_O-uJFg0"
      },
      "execution_count": 116,
      "outputs": []
    },
    {
      "cell_type": "code",
      "source": [
        "from sklearn.metrics import mean_squared_error, r2_score"
      ],
      "metadata": {
        "id": "hdUNaDn2RD0R"
      },
      "execution_count": 117,
      "outputs": []
    },
    {
      "cell_type": "code",
      "source": [
        "in_mse = mean_squared_error(y_train, y_pred_in)\n",
        "out_mse = mean_squared_error(y_test, y_pred_out)\n",
        "print('In-sample MSE:',in_mse,'Out of sample MSE:',out_mse)"
      ],
      "metadata": {
        "id": "RjTa3ShN_edU",
        "colab": {
          "base_uri": "https://localhost:8080/"
        },
        "outputId": "938b4632-c02a-4c70-9de2-4d0ded3ce8b2"
      },
      "execution_count": 118,
      "outputs": [
        {
          "output_type": "stream",
          "name": "stdout",
          "text": [
            "In-sample MSE: 26443787.37076957 Out of sample MSE: 49346957.450221024\n"
          ]
        }
      ]
    },
    {
      "cell_type": "code",
      "source": [
        "in_r2 = r2_score(y_train, y_pred_in)\n",
        "out_r2 = r2_score(y_test, y_pred_out)\n",
        "print('In-sample r2:',in_r2,'Out of sample r2:',out_r2)"
      ],
      "metadata": {
        "id": "xd2PAQ3e_egK",
        "colab": {
          "base_uri": "https://localhost:8080/"
        },
        "outputId": "d13db766-636d-47c6-f7be-71eb86851b7a"
      },
      "execution_count": 119,
      "outputs": [
        {
          "output_type": "stream",
          "name": "stdout",
          "text": [
            "In-sample r2: 0.4299460658793869 Out of sample r2: -0.0048280637592010844\n"
          ]
        }
      ]
    },
    {
      "cell_type": "markdown",
      "source": [
        "# 5.) Build a Keras with the architecture defined by GridSearchCV"
      ],
      "metadata": {
        "id": "YVQ1PvBK_ev0"
      }
    },
    {
      "cell_type": "code",
      "source": [
        "import keras\n",
        "from keras.optimizers import Adam\n",
        "from keras.models import Sequential\n",
        "from keras.layers import Dense"
      ],
      "metadata": {
        "id": "dzqvY-1Vfd3v"
      },
      "execution_count": 120,
      "outputs": []
    },
    {
      "cell_type": "code",
      "source": [
        "model = Sequential()\n",
        "model.add(Dense(10,activation = 'relu'))\n",
        "model.add(Dense(100,activation = 'relu'))\n",
        "model.add(Dense(10,activation = 'relu'))"
      ],
      "metadata": {
        "id": "REnA8g8VOexH"
      },
      "execution_count": 123,
      "outputs": []
    },
    {
      "cell_type": "code",
      "source": [
        "model.compile(loss='mse',optimizer = Adam(lr=0.01))\n",
        "model.fit(X_train,y_train,batch_size=32,epochs=100)"
      ],
      "metadata": {
        "id": "cIru4hD8Oezl",
        "colab": {
          "base_uri": "https://localhost:8080/"
        },
        "outputId": "34efd883-ed8f-4607-c7e4-4f78c006dcf8"
      },
      "execution_count": 124,
      "outputs": [
        {
          "output_type": "stream",
          "name": "stdout",
          "text": [
            "Epoch 1/100\n",
            "200/200 [==============================] - 2s 5ms/step - loss: 67040140.0000\n",
            "Epoch 2/100\n",
            "200/200 [==============================] - 1s 4ms/step - loss: 38981876.0000\n",
            "Epoch 3/100\n",
            "200/200 [==============================] - 1s 4ms/step - loss: 37802328.0000\n",
            "Epoch 4/100\n",
            "200/200 [==============================] - 0s 2ms/step - loss: 37227876.0000\n",
            "Epoch 5/100\n",
            "200/200 [==============================] - 0s 2ms/step - loss: 36694368.0000\n",
            "Epoch 6/100\n",
            "200/200 [==============================] - 0s 2ms/step - loss: 36230140.0000\n",
            "Epoch 7/100\n",
            "200/200 [==============================] - 0s 2ms/step - loss: 35814556.0000\n",
            "Epoch 8/100\n",
            "200/200 [==============================] - 0s 2ms/step - loss: 35645860.0000\n",
            "Epoch 9/100\n",
            "200/200 [==============================] - 0s 2ms/step - loss: 35370224.0000\n",
            "Epoch 10/100\n",
            "200/200 [==============================] - 0s 2ms/step - loss: 35049788.0000\n",
            "Epoch 11/100\n",
            "200/200 [==============================] - 0s 2ms/step - loss: 34946220.0000\n",
            "Epoch 12/100\n",
            "200/200 [==============================] - 0s 2ms/step - loss: 34845092.0000\n",
            "Epoch 13/100\n",
            "200/200 [==============================] - 0s 2ms/step - loss: 34545144.0000\n",
            "Epoch 14/100\n",
            "200/200 [==============================] - 0s 2ms/step - loss: 34409820.0000\n",
            "Epoch 15/100\n",
            "200/200 [==============================] - 0s 2ms/step - loss: 34347488.0000\n",
            "Epoch 16/100\n",
            "200/200 [==============================] - 0s 2ms/step - loss: 34142056.0000\n",
            "Epoch 17/100\n",
            "200/200 [==============================] - 0s 2ms/step - loss: 33991440.0000\n",
            "Epoch 18/100\n",
            "200/200 [==============================] - 0s 2ms/step - loss: 33812604.0000\n",
            "Epoch 19/100\n",
            "200/200 [==============================] - 0s 2ms/step - loss: 33830724.0000\n",
            "Epoch 20/100\n",
            "200/200 [==============================] - 0s 2ms/step - loss: 33598964.0000\n",
            "Epoch 21/100\n",
            "200/200 [==============================] - 0s 2ms/step - loss: 33444808.0000\n",
            "Epoch 22/100\n",
            "200/200 [==============================] - 0s 2ms/step - loss: 33376938.0000\n",
            "Epoch 23/100\n",
            "200/200 [==============================] - 0s 2ms/step - loss: 33416894.0000\n",
            "Epoch 24/100\n",
            "200/200 [==============================] - 0s 2ms/step - loss: 33302816.0000\n",
            "Epoch 25/100\n",
            "200/200 [==============================] - 0s 2ms/step - loss: 33055810.0000\n",
            "Epoch 26/100\n",
            "200/200 [==============================] - 1s 4ms/step - loss: 32965920.0000\n",
            "Epoch 27/100\n",
            "200/200 [==============================] - 1s 4ms/step - loss: 32809494.0000\n",
            "Epoch 28/100\n",
            "200/200 [==============================] - 1s 4ms/step - loss: 32745412.0000\n",
            "Epoch 29/100\n",
            "200/200 [==============================] - 1s 4ms/step - loss: 32633842.0000\n",
            "Epoch 30/100\n",
            "200/200 [==============================] - 1s 4ms/step - loss: 32542294.0000\n",
            "Epoch 31/100\n",
            "200/200 [==============================] - 1s 4ms/step - loss: 32463446.0000\n",
            "Epoch 32/100\n",
            "200/200 [==============================] - 0s 2ms/step - loss: 32380314.0000\n",
            "Epoch 33/100\n",
            "200/200 [==============================] - 0s 2ms/step - loss: 32281700.0000\n",
            "Epoch 34/100\n",
            "200/200 [==============================] - 0s 2ms/step - loss: 32203764.0000\n",
            "Epoch 35/100\n",
            "200/200 [==============================] - 0s 2ms/step - loss: 32054388.0000\n",
            "Epoch 36/100\n",
            "200/200 [==============================] - 1s 3ms/step - loss: 32049716.0000\n",
            "Epoch 37/100\n",
            "200/200 [==============================] - 0s 2ms/step - loss: 31984066.0000\n",
            "Epoch 38/100\n",
            "200/200 [==============================] - 1s 3ms/step - loss: 31870714.0000\n",
            "Epoch 39/100\n",
            "200/200 [==============================] - 0s 2ms/step - loss: 31703912.0000\n",
            "Epoch 40/100\n",
            "200/200 [==============================] - 1s 3ms/step - loss: 31723510.0000\n",
            "Epoch 41/100\n",
            "200/200 [==============================] - 0s 2ms/step - loss: 31584918.0000\n",
            "Epoch 42/100\n",
            "200/200 [==============================] - 0s 2ms/step - loss: 31683206.0000\n",
            "Epoch 43/100\n",
            "200/200 [==============================] - 0s 2ms/step - loss: 31478616.0000\n",
            "Epoch 44/100\n",
            "200/200 [==============================] - 1s 3ms/step - loss: 31435886.0000\n",
            "Epoch 45/100\n",
            "200/200 [==============================] - 0s 2ms/step - loss: 31270636.0000\n",
            "Epoch 46/100\n",
            "200/200 [==============================] - 0s 2ms/step - loss: 31134934.0000\n",
            "Epoch 47/100\n",
            "200/200 [==============================] - 0s 2ms/step - loss: 31055064.0000\n",
            "Epoch 48/100\n",
            "200/200 [==============================] - 0s 2ms/step - loss: 31200610.0000\n",
            "Epoch 49/100\n",
            "200/200 [==============================] - 0s 2ms/step - loss: 31022290.0000\n",
            "Epoch 50/100\n",
            "200/200 [==============================] - 0s 2ms/step - loss: 30894496.0000\n",
            "Epoch 51/100\n",
            "200/200 [==============================] - 0s 2ms/step - loss: 30793750.0000\n",
            "Epoch 52/100\n",
            "200/200 [==============================] - 0s 2ms/step - loss: 30667252.0000\n",
            "Epoch 53/100\n",
            "200/200 [==============================] - 1s 4ms/step - loss: 30639828.0000\n",
            "Epoch 54/100\n",
            "200/200 [==============================] - 1s 4ms/step - loss: 30482790.0000\n",
            "Epoch 55/100\n",
            "200/200 [==============================] - 1s 4ms/step - loss: 30453432.0000\n",
            "Epoch 56/100\n",
            "200/200 [==============================] - 1s 4ms/step - loss: 30269638.0000\n",
            "Epoch 57/100\n",
            "200/200 [==============================] - 1s 4ms/step - loss: 30265310.0000\n",
            "Epoch 58/100\n",
            "200/200 [==============================] - 1s 4ms/step - loss: 30208178.0000\n",
            "Epoch 59/100\n",
            "200/200 [==============================] - 0s 2ms/step - loss: 30063828.0000\n",
            "Epoch 60/100\n",
            "200/200 [==============================] - 0s 2ms/step - loss: 29958522.0000\n",
            "Epoch 61/100\n",
            "200/200 [==============================] - 0s 2ms/step - loss: 29933934.0000\n",
            "Epoch 62/100\n",
            "200/200 [==============================] - 0s 2ms/step - loss: 29734364.0000\n",
            "Epoch 63/100\n",
            "200/200 [==============================] - 0s 2ms/step - loss: 29818944.0000\n",
            "Epoch 64/100\n",
            "200/200 [==============================] - 0s 2ms/step - loss: 29724290.0000\n",
            "Epoch 65/100\n",
            "200/200 [==============================] - 0s 2ms/step - loss: 29507112.0000\n",
            "Epoch 66/100\n",
            "200/200 [==============================] - 0s 2ms/step - loss: 29660824.0000\n",
            "Epoch 67/100\n",
            "200/200 [==============================] - 0s 2ms/step - loss: 29383394.0000\n",
            "Epoch 68/100\n",
            "200/200 [==============================] - 0s 2ms/step - loss: 29302704.0000\n",
            "Epoch 69/100\n",
            "200/200 [==============================] - 0s 2ms/step - loss: 29186560.0000\n",
            "Epoch 70/100\n",
            "200/200 [==============================] - 0s 2ms/step - loss: 29183422.0000\n",
            "Epoch 71/100\n",
            "200/200 [==============================] - 0s 2ms/step - loss: 29157080.0000\n",
            "Epoch 72/100\n",
            "200/200 [==============================] - 0s 2ms/step - loss: 28987538.0000\n",
            "Epoch 73/100\n",
            "200/200 [==============================] - 0s 2ms/step - loss: 29047996.0000\n",
            "Epoch 74/100\n",
            "200/200 [==============================] - 0s 2ms/step - loss: 28882354.0000\n",
            "Epoch 75/100\n",
            "200/200 [==============================] - 0s 2ms/step - loss: 28819040.0000\n",
            "Epoch 76/100\n",
            "200/200 [==============================] - 0s 2ms/step - loss: 28761752.0000\n",
            "Epoch 77/100\n",
            "200/200 [==============================] - 0s 2ms/step - loss: 28888562.0000\n",
            "Epoch 78/100\n",
            "200/200 [==============================] - 0s 2ms/step - loss: 28560290.0000\n",
            "Epoch 79/100\n",
            "200/200 [==============================] - 0s 2ms/step - loss: 28552732.0000\n",
            "Epoch 80/100\n",
            "200/200 [==============================] - 0s 2ms/step - loss: 28530074.0000\n",
            "Epoch 81/100\n",
            "200/200 [==============================] - 1s 2ms/step - loss: 28437180.0000\n",
            "Epoch 82/100\n",
            "200/200 [==============================] - 1s 4ms/step - loss: 28348908.0000\n",
            "Epoch 83/100\n",
            "200/200 [==============================] - 1s 4ms/step - loss: 28165662.0000\n",
            "Epoch 84/100\n",
            "200/200 [==============================] - 1s 4ms/step - loss: 28349246.0000\n",
            "Epoch 85/100\n",
            "200/200 [==============================] - 1s 4ms/step - loss: 28174252.0000\n",
            "Epoch 86/100\n",
            "200/200 [==============================] - 1s 4ms/step - loss: 28152722.0000\n",
            "Epoch 87/100\n",
            "200/200 [==============================] - 1s 4ms/step - loss: 28077442.0000\n",
            "Epoch 88/100\n",
            "200/200 [==============================] - 0s 2ms/step - loss: 27986000.0000\n",
            "Epoch 89/100\n",
            "200/200 [==============================] - 0s 2ms/step - loss: 27868318.0000\n",
            "Epoch 90/100\n",
            "200/200 [==============================] - 0s 2ms/step - loss: 27911732.0000\n",
            "Epoch 91/100\n",
            "200/200 [==============================] - 0s 2ms/step - loss: 27872364.0000\n",
            "Epoch 92/100\n",
            "200/200 [==============================] - 0s 2ms/step - loss: 27775496.0000\n",
            "Epoch 93/100\n",
            "200/200 [==============================] - 0s 2ms/step - loss: 27773984.0000\n",
            "Epoch 94/100\n",
            "200/200 [==============================] - 0s 2ms/step - loss: 27715792.0000\n",
            "Epoch 95/100\n",
            "200/200 [==============================] - 0s 2ms/step - loss: 27564516.0000\n",
            "Epoch 96/100\n",
            "200/200 [==============================] - 0s 2ms/step - loss: 27485528.0000\n",
            "Epoch 97/100\n",
            "200/200 [==============================] - 0s 2ms/step - loss: 27536352.0000\n",
            "Epoch 98/100\n",
            "200/200 [==============================] - 0s 2ms/step - loss: 27387126.0000\n",
            "Epoch 99/100\n",
            "200/200 [==============================] - 0s 2ms/step - loss: 27353568.0000\n",
            "Epoch 100/100\n",
            "200/200 [==============================] - 0s 2ms/step - loss: 27414422.0000\n"
          ]
        },
        {
          "output_type": "execute_result",
          "data": {
            "text/plain": [
              "<keras.callbacks.History at 0x7f8047bfae50>"
            ]
          },
          "metadata": {},
          "execution_count": 124
        }
      ]
    },
    {
      "cell_type": "markdown",
      "source": [
        "# 6.) Make two visualizations of your NN using “plot_model” and “ann_viz”"
      ],
      "metadata": {
        "id": "NirfWMLxOe-P"
      }
    },
    {
      "cell_type": "code",
      "source": [
        "model.summary()"
      ],
      "metadata": {
        "id": "pF_gjYFTOiL0",
        "colab": {
          "base_uri": "https://localhost:8080/"
        },
        "outputId": "3b05da9d-3199-49bd-eebd-7820dac6cc5a"
      },
      "execution_count": 126,
      "outputs": [
        {
          "output_type": "stream",
          "name": "stdout",
          "text": [
            "Model: \"sequential_3\"\n",
            "_________________________________________________________________\n",
            " Layer (type)                Output Shape              Param #   \n",
            "=================================================================\n",
            " dense_5 (Dense)             (None, 10)                1240      \n",
            "                                                                 \n",
            " dense_6 (Dense)             (None, 100)               1100      \n",
            "                                                                 \n",
            " dense_7 (Dense)             (None, 10)                1010      \n",
            "                                                                 \n",
            "=================================================================\n",
            "Total params: 3,350\n",
            "Trainable params: 3,350\n",
            "Non-trainable params: 0\n",
            "_________________________________________________________________\n"
          ]
        }
      ]
    },
    {
      "cell_type": "code",
      "source": [
        "# Plot Model\n",
        "from tensorflow.keras.utils import plot_model\n",
        "\n",
        "plot_model(model, show_shapes=True)"
      ],
      "metadata": {
        "id": "yET3XQYSOiq_",
        "colab": {
          "base_uri": "https://localhost:8080/",
          "height": 422
        },
        "outputId": "15bb6cd0-2fd6-4dfe-9652-350f4f872a16"
      },
      "execution_count": 127,
      "outputs": [
        {
          "output_type": "execute_result",
          "data": {
            "image/png": "[encoded data removed]",
            "text/plain": [
              "<IPython.core.display.Image object>"
            ]
          },
          "metadata": {},
          "execution_count": 127
        }
      ]
    },
    {
      "cell_type": "code",
      "source": [
        "# Ann Visualizer\n",
        "!pip install ann_visualizer"
      ],
      "metadata": {
        "id": "EkAI6lrlOiti",
        "colab": {
          "base_uri": "https://localhost:8080/"
        },
        "outputId": "dbfc23cc-8724-4bcb-d292-bf8f927b47fe"
      },
      "execution_count": 128,
      "outputs": [
        {
          "output_type": "stream",
          "name": "stdout",
          "text": [
            "Looking in indexes: https://pypi.org/simple, https://us-python.pkg.dev/colab-wheels/public/simple/\n",
            "Requirement already satisfied: ann_visualizer in /usr/local/lib/python3.8/dist-packages (2.5)\n"
          ]
        }
      ]
    },
    {
      "cell_type": "code",
      "source": [
        "from ann_visualizer.visualize import ann_viz\n",
        "ann_viz(model, title='Neural Network Viz', view=True, filename='/folder/nn_model.gz')"
      ],
      "metadata": {
        "id": "VtFLNv7iOiwq"
      },
      "execution_count": 129,
      "outputs": []
    }
  ]
}