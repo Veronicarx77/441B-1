{
  "nbformat": 4,
  "nbformat_minor": 0,
  "metadata": {
    "colab": {
      "provenance": []
    },
    "kernelspec": {
      "name": "python3",
      "display_name": "Python 3"
    },
    "language_info": {
      "name": "python"
    }
  },
  "cells": [
    {
      "cell_type": "code",
      "execution_count": 4,
      "metadata": {
        "id": "UJ1TOJQ4OquG"
      },
      "outputs": [],
      "source": [
        "import pandas as pd\n",
        "\n",
        "from google.colab import drive\n",
        "\n",
        "import matplotlib.pyplot as plt"
      ]
    },
    {
      "cell_type": "code",
      "source": [
        "drive.mount('/content/gdrive/', force_remount = True)"
      ],
      "metadata": {
        "colab": {
          "base_uri": "https://localhost:8080/"
        },
        "id": "0RQ3HxiNPmGU",
        "outputId": "da22d83d-a2d4-4185-946a-44df44125379"
      },
      "execution_count": 2,
      "outputs": [
        {
          "output_type": "stream",
          "name": "stdout",
          "text": [
            "Mounted at /content/gdrive/\n"
          ]
        }
      ]
    },
    {
      "cell_type": "code",
      "source": [
        "df = pd.read_csv('/content/gdrive/MyDrive/ECON441B/Crime_Data_from_2020_to_Present.csv')"
      ],
      "metadata": {
        "id": "ks6zKQOzP6Kz"
      },
      "execution_count": 5,
      "outputs": []
    },
    {
      "cell_type": "code",
      "source": [
        "df = df[df['Vict Age']!=0]"
      ],
      "metadata": {
        "id": "ijqoGLQITk3Q"
      },
      "execution_count": 28,
      "outputs": []
    },
    {
      "cell_type": "code",
      "source": [
        "plt.figure(figsize = (12,5))\n",
        "\n",
        "plt.hist(df['Vict Age'])\n",
        "\n",
        "plt.title(\"The Victim's Age Distribution\")\n",
        "\n",
        "plt.xlabel('Age')\n",
        "\n",
        "plt.ylabel('Counts')\n",
        "\n",
        "plt.show()"
      ],
      "metadata": {
        "colab": {
          "base_uri": "https://localhost:8080/",
          "height": 350
        },
        "id": "szZgMVF7QxeP",
        "outputId": "aac8b413-967a-478a-fc21-7d8e526f0be6"
      },
      "execution_count": 29,
      "outputs": [
        {
          "output_type": "display_data",
          "data": {
            "text/plain": [
              "<Figure size 864x360 with 1 Axes>"
            ],
            "image/png": "[encoded data removed]"
          },
          "metadata": {
            "needs_background": "light"
          }
        }
      ]
    },
    {
      "cell_type": "markdown",
      "source": [
        "Most victims are between 25-45 years old, and the distribution of victim's age is right-skewed."
      ],
      "metadata": {
        "id": "LYvR3Wm4TWKB"
      }
    }
  ]
}